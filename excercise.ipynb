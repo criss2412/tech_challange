{
 "cells": [
  {
   "cell_type": "code",
   "execution_count": 13,
   "metadata": {},
   "outputs": [],
   "source": [
    "import pandas as pd\n",
    "import re\n",
    "import rapidfuzz as rf"
   ]
  },
  {
   "cell_type": "markdown",
   "metadata": {},
   "source": [
    "# Citire Fisier si analiza coloane"
   ]
  },
  {
   "cell_type": "code",
   "execution_count": 17,
   "metadata": {
    "scrolled": true
   },
   "outputs": [],
   "source": [
    "df = pd.read_parquet(\"veridion_entity_resolution_challenge.snappy.parquet\")"
   ]
  },
  {
   "cell_type": "code",
   "execution_count": null,
   "metadata": {},
   "outputs": [],
   "source": []
  },
  {
   "cell_type": "code",
   "execution_count": 18,
   "metadata": {},
   "outputs": [
    {
     "data": {
      "text/html": [
       "<div>\n",
       "<style scoped>\n",
       "    .dataframe tbody tr th:only-of-type {\n",
       "        vertical-align: middle;\n",
       "    }\n",
       "\n",
       "    .dataframe tbody tr th {\n",
       "        vertical-align: top;\n",
       "    }\n",
       "\n",
       "    .dataframe thead th {\n",
       "        text-align: right;\n",
       "    }\n",
       "</style>\n",
       "<table border=\"1\" class=\"dataframe\">\n",
       "  <thead>\n",
       "    <tr style=\"text-align: right;\">\n",
       "      <th></th>\n",
       "      <th>company_name</th>\n",
       "      <th>company_legal_names</th>\n",
       "      <th>company_commercial_names</th>\n",
       "      <th>main_country_code</th>\n",
       "      <th>main_country</th>\n",
       "      <th>main_region</th>\n",
       "      <th>main_city_district</th>\n",
       "      <th>main_city</th>\n",
       "      <th>main_postcode</th>\n",
       "      <th>main_street</th>\n",
       "      <th>...</th>\n",
       "      <th>generated_description</th>\n",
       "      <th>generated_business_tags</th>\n",
       "      <th>status</th>\n",
       "      <th>domains</th>\n",
       "      <th>all_domains</th>\n",
       "      <th>revenue</th>\n",
       "      <th>revenue_type</th>\n",
       "      <th>employee_count</th>\n",
       "      <th>employee_count_type</th>\n",
       "      <th>inbound_links_count</th>\n",
       "    </tr>\n",
       "  </thead>\n",
       "  <tbody>\n",
       "    <tr>\n",
       "      <th>0</th>\n",
       "      <td>Owens Liquors</td>\n",
       "      <td>None</td>\n",
       "      <td>Owens Liquors</td>\n",
       "      <td>US</td>\n",
       "      <td>United States</td>\n",
       "      <td>South Carolina</td>\n",
       "      <td>None</td>\n",
       "      <td>Pawleys Island</td>\n",
       "      <td>29585</td>\n",
       "      <td>Ocean Highway</td>\n",
       "      <td>...</td>\n",
       "      <td>Owens Liquors is a retail establishment locate...</td>\n",
       "      <td>Retail Trade | Liquor Stores | Wine &amp; Liquor</td>\n",
       "      <td>Active</td>\n",
       "      <td>None</td>\n",
       "      <td>None</td>\n",
       "      <td>None</td>\n",
       "      <td>None</td>\n",
       "      <td>None</td>\n",
       "      <td>None</td>\n",
       "      <td>None</td>\n",
       "    </tr>\n",
       "    <tr>\n",
       "      <th>1</th>\n",
       "      <td>Club Tarneit</td>\n",
       "      <td>None</td>\n",
       "      <td>Club Tarneit</td>\n",
       "      <td>AU</td>\n",
       "      <td>Australia</td>\n",
       "      <td>Victoria</td>\n",
       "      <td>Tarneit</td>\n",
       "      <td>City Of Wyndham</td>\n",
       "      <td>3029</td>\n",
       "      <td>None</td>\n",
       "      <td>...</td>\n",
       "      <td>None</td>\n",
       "      <td>None</td>\n",
       "      <td>Active</td>\n",
       "      <td>None</td>\n",
       "      <td>None</td>\n",
       "      <td>None</td>\n",
       "      <td>None</td>\n",
       "      <td>9</td>\n",
       "      <td>extracted</td>\n",
       "      <td>None</td>\n",
       "    </tr>\n",
       "    <tr>\n",
       "      <th>2</th>\n",
       "      <td>AAA Auto Otrokovice Zlín</td>\n",
       "      <td>None</td>\n",
       "      <td>AAA Auto Otrokovice Zlín</td>\n",
       "      <td>CZ</td>\n",
       "      <td>Czechia</td>\n",
       "      <td>Zlín</td>\n",
       "      <td>Kvítkovice U Otrokovic</td>\n",
       "      <td>Otrokovice</td>\n",
       "      <td>765 02</td>\n",
       "      <td>Zlínská</td>\n",
       "      <td>...</td>\n",
       "      <td>AAA Auto Otrokovice (Zlín) is a car dealership...</td>\n",
       "      <td>In-store Shopping | Investment Management Serv...</td>\n",
       "      <td>Active</td>\n",
       "      <td>None</td>\n",
       "      <td>None</td>\n",
       "      <td>None</td>\n",
       "      <td>None</td>\n",
       "      <td>None</td>\n",
       "      <td>None</td>\n",
       "      <td>None</td>\n",
       "    </tr>\n",
       "    <tr>\n",
       "      <th>3</th>\n",
       "      <td>Gisinger GmbH</td>\n",
       "      <td>Gisinger GmbH</td>\n",
       "      <td>None</td>\n",
       "      <td>DE</td>\n",
       "      <td>Germany</td>\n",
       "      <td>Baden-Württemberg</td>\n",
       "      <td>None</td>\n",
       "      <td>Ühlingen-Birkendorf</td>\n",
       "      <td>79777</td>\n",
       "      <td>Berauer Straße</td>\n",
       "      <td>...</td>\n",
       "      <td>None</td>\n",
       "      <td>None</td>\n",
       "      <td>Active</td>\n",
       "      <td>None</td>\n",
       "      <td>None</td>\n",
       "      <td>None</td>\n",
       "      <td>None</td>\n",
       "      <td>None</td>\n",
       "      <td>None</td>\n",
       "      <td>None</td>\n",
       "    </tr>\n",
       "    <tr>\n",
       "      <th>4</th>\n",
       "      <td>Kasana Life</td>\n",
       "      <td>None</td>\n",
       "      <td>Kasana Life</td>\n",
       "      <td>US</td>\n",
       "      <td>United States</td>\n",
       "      <td>Connecticut</td>\n",
       "      <td>None</td>\n",
       "      <td>Litchfield</td>\n",
       "      <td>06759</td>\n",
       "      <td>None</td>\n",
       "      <td>...</td>\n",
       "      <td>None</td>\n",
       "      <td>None</td>\n",
       "      <td>Active</td>\n",
       "      <td>None</td>\n",
       "      <td>None</td>\n",
       "      <td>None</td>\n",
       "      <td>None</td>\n",
       "      <td>None</td>\n",
       "      <td>None</td>\n",
       "      <td>None</td>\n",
       "    </tr>\n",
       "    <tr>\n",
       "      <th>5</th>\n",
       "      <td>BAM BROW &amp; MAKEUP STUDIO</td>\n",
       "      <td>None</td>\n",
       "      <td>BAM BROW &amp; MAKEUP STUDIO</td>\n",
       "      <td>AU</td>\n",
       "      <td>Australia</td>\n",
       "      <td>Western Australia</td>\n",
       "      <td>None</td>\n",
       "      <td>Mandurah</td>\n",
       "      <td>6201</td>\n",
       "      <td>None</td>\n",
       "      <td>...</td>\n",
       "      <td>None</td>\n",
       "      <td>None</td>\n",
       "      <td>Active</td>\n",
       "      <td>None</td>\n",
       "      <td>None</td>\n",
       "      <td>None</td>\n",
       "      <td>None</td>\n",
       "      <td>None</td>\n",
       "      <td>None</td>\n",
       "      <td>None</td>\n",
       "    </tr>\n",
       "    <tr>\n",
       "      <th>6</th>\n",
       "      <td>Tescoma</td>\n",
       "      <td>None</td>\n",
       "      <td>Tescoma</td>\n",
       "      <td>HU</td>\n",
       "      <td>Hungary</td>\n",
       "      <td>Budapest</td>\n",
       "      <td>None</td>\n",
       "      <td>Budapest</td>\n",
       "      <td>1222</td>\n",
       "      <td>Nagytétényi Út</td>\n",
       "      <td>...</td>\n",
       "      <td>Tescoma is a kitchen supply shop located in Bu...</td>\n",
       "      <td>Home Furnishings Retailer | Kitchenchen Supply...</td>\n",
       "      <td>Active</td>\n",
       "      <td>None</td>\n",
       "      <td>None</td>\n",
       "      <td>None</td>\n",
       "      <td>None</td>\n",
       "      <td>None</td>\n",
       "      <td>None</td>\n",
       "      <td>None</td>\n",
       "    </tr>\n",
       "    <tr>\n",
       "      <th>7</th>\n",
       "      <td>Happyweddings | No.1 Matrimony Trivandrum Kerala</td>\n",
       "      <td>None</td>\n",
       "      <td>Happyweddings | No.1 Matrimony Trivandrum Kera...</td>\n",
       "      <td>IN</td>\n",
       "      <td>India</td>\n",
       "      <td>Kerala</td>\n",
       "      <td>None</td>\n",
       "      <td>Thiruvananthapuram</td>\n",
       "      <td>695025</td>\n",
       "      <td>Medical College - Chalakkuzhy Road</td>\n",
       "      <td>...</td>\n",
       "      <td>Happyweddings.com is a company based in Thiruv...</td>\n",
       "      <td>Event Planning Services | Wedding Planning Ser...</td>\n",
       "      <td>Active</td>\n",
       "      <td>None</td>\n",
       "      <td>None</td>\n",
       "      <td>None</td>\n",
       "      <td>None</td>\n",
       "      <td>None</td>\n",
       "      <td>None</td>\n",
       "      <td>None</td>\n",
       "    </tr>\n",
       "    <tr>\n",
       "      <th>8</th>\n",
       "      <td>Dental Planet Manukau</td>\n",
       "      <td>None</td>\n",
       "      <td>Dental Planet Manukau</td>\n",
       "      <td>NZ</td>\n",
       "      <td>New Zealand</td>\n",
       "      <td>Auckland</td>\n",
       "      <td>None</td>\n",
       "      <td>Auckland</td>\n",
       "      <td>2104</td>\n",
       "      <td>Bakerfield Place</td>\n",
       "      <td>...</td>\n",
       "      <td>Dental Planet Manukau is a dental clinic locat...</td>\n",
       "      <td>Healthcare Services | Ddental Care Services</td>\n",
       "      <td>Active</td>\n",
       "      <td>None</td>\n",
       "      <td>None</td>\n",
       "      <td>None</td>\n",
       "      <td>None</td>\n",
       "      <td>None</td>\n",
       "      <td>None</td>\n",
       "      <td>None</td>\n",
       "    </tr>\n",
       "    <tr>\n",
       "      <th>9</th>\n",
       "      <td>Drake Design Photography</td>\n",
       "      <td>None</td>\n",
       "      <td>Drake Design Photography</td>\n",
       "      <td>US</td>\n",
       "      <td>United States</td>\n",
       "      <td>Texas</td>\n",
       "      <td>None</td>\n",
       "      <td>Lubbock</td>\n",
       "      <td>79416</td>\n",
       "      <td>County Road 6430</td>\n",
       "      <td>...</td>\n",
       "      <td>Drake Design Photography is a portrait studio ...</td>\n",
       "      <td>Wheelchair Access | Portrait Studio | Photogra...</td>\n",
       "      <td>Active</td>\n",
       "      <td>None</td>\n",
       "      <td>None</td>\n",
       "      <td>None</td>\n",
       "      <td>None</td>\n",
       "      <td>None</td>\n",
       "      <td>None</td>\n",
       "      <td>None</td>\n",
       "    </tr>\n",
       "  </tbody>\n",
       "</table>\n",
       "<p>10 rows × 75 columns</p>\n",
       "</div>"
      ],
      "text/plain": [
       "                                       company_name company_legal_names  \\\n",
       "0                                     Owens Liquors                None   \n",
       "1                                      Club Tarneit                None   \n",
       "2                          AAA Auto Otrokovice Zlín                None   \n",
       "3                                     Gisinger GmbH       Gisinger GmbH   \n",
       "4                                       Kasana Life                None   \n",
       "5                          BAM BROW & MAKEUP STUDIO                None   \n",
       "6                                           Tescoma                None   \n",
       "7  Happyweddings | No.1 Matrimony Trivandrum Kerala                None   \n",
       "8                             Dental Planet Manukau                None   \n",
       "9                          Drake Design Photography                None   \n",
       "\n",
       "                            company_commercial_names main_country_code  \\\n",
       "0                                      Owens Liquors                US   \n",
       "1                                       Club Tarneit                AU   \n",
       "2                           AAA Auto Otrokovice Zlín                CZ   \n",
       "3                                               None                DE   \n",
       "4                                        Kasana Life                US   \n",
       "5                           BAM BROW & MAKEUP STUDIO                AU   \n",
       "6                                            Tescoma                HU   \n",
       "7  Happyweddings | No.1 Matrimony Trivandrum Kera...                IN   \n",
       "8                              Dental Planet Manukau                NZ   \n",
       "9                           Drake Design Photography                US   \n",
       "\n",
       "    main_country        main_region      main_city_district  \\\n",
       "0  United States     South Carolina                    None   \n",
       "1      Australia           Victoria                 Tarneit   \n",
       "2        Czechia               Zlín  Kvítkovice U Otrokovic   \n",
       "3        Germany  Baden-Württemberg                    None   \n",
       "4  United States        Connecticut                    None   \n",
       "5      Australia  Western Australia                    None   \n",
       "6        Hungary           Budapest                    None   \n",
       "7          India             Kerala                    None   \n",
       "8    New Zealand           Auckland                    None   \n",
       "9  United States              Texas                    None   \n",
       "\n",
       "             main_city main_postcode                         main_street  ...  \\\n",
       "0       Pawleys Island         29585                       Ocean Highway  ...   \n",
       "1      City Of Wyndham          3029                                None  ...   \n",
       "2           Otrokovice        765 02                             Zlínská  ...   \n",
       "3  Ühlingen-Birkendorf         79777                      Berauer Straße  ...   \n",
       "4           Litchfield         06759                                None  ...   \n",
       "5             Mandurah          6201                                None  ...   \n",
       "6             Budapest          1222                      Nagytétényi Út  ...   \n",
       "7   Thiruvananthapuram        695025  Medical College - Chalakkuzhy Road  ...   \n",
       "8             Auckland          2104                    Bakerfield Place  ...   \n",
       "9              Lubbock         79416                    County Road 6430  ...   \n",
       "\n",
       "                               generated_description  \\\n",
       "0  Owens Liquors is a retail establishment locate...   \n",
       "1                                               None   \n",
       "2  AAA Auto Otrokovice (Zlín) is a car dealership...   \n",
       "3                                               None   \n",
       "4                                               None   \n",
       "5                                               None   \n",
       "6  Tescoma is a kitchen supply shop located in Bu...   \n",
       "7  Happyweddings.com is a company based in Thiruv...   \n",
       "8  Dental Planet Manukau is a dental clinic locat...   \n",
       "9  Drake Design Photography is a portrait studio ...   \n",
       "\n",
       "                             generated_business_tags  status domains  \\\n",
       "0       Retail Trade | Liquor Stores | Wine & Liquor  Active    None   \n",
       "1                                               None  Active    None   \n",
       "2  In-store Shopping | Investment Management Serv...  Active    None   \n",
       "3                                               None  Active    None   \n",
       "4                                               None  Active    None   \n",
       "5                                               None  Active    None   \n",
       "6  Home Furnishings Retailer | Kitchenchen Supply...  Active    None   \n",
       "7  Event Planning Services | Wedding Planning Ser...  Active    None   \n",
       "8        Healthcare Services | Ddental Care Services  Active    None   \n",
       "9  Wheelchair Access | Portrait Studio | Photogra...  Active    None   \n",
       "\n",
       "  all_domains revenue revenue_type employee_count employee_count_type  \\\n",
       "0        None    None         None           None                None   \n",
       "1        None    None         None              9           extracted   \n",
       "2        None    None         None           None                None   \n",
       "3        None    None         None           None                None   \n",
       "4        None    None         None           None                None   \n",
       "5        None    None         None           None                None   \n",
       "6        None    None         None           None                None   \n",
       "7        None    None         None           None                None   \n",
       "8        None    None         None           None                None   \n",
       "9        None    None         None           None                None   \n",
       "\n",
       "  inbound_links_count  \n",
       "0                None  \n",
       "1                None  \n",
       "2                None  \n",
       "3                None  \n",
       "4                None  \n",
       "5                None  \n",
       "6                None  \n",
       "7                None  \n",
       "8                None  \n",
       "9                None  \n",
       "\n",
       "[10 rows x 75 columns]"
      ]
     },
     "execution_count": 18,
     "metadata": {},
     "output_type": "execute_result"
    }
   ],
   "source": [
    "df.head(10)"
   ]
  },
  {
   "cell_type": "code",
   "execution_count": 19,
   "metadata": {},
   "outputs": [
    {
     "data": {
      "text/plain": [
       "(33446, 75)"
      ]
     },
     "execution_count": 19,
     "metadata": {},
     "output_type": "execute_result"
    }
   ],
   "source": [
    "df.shape"
   ]
  },
  {
   "cell_type": "code",
   "execution_count": 20,
   "metadata": {},
   "outputs": [
    {
     "ename": "NameError",
     "evalue": "name 'df_entity' is not defined",
     "output_type": "error",
     "traceback": [
      "\u001b[0;31m---------------------------------------------------------------------------\u001b[0m",
      "\u001b[0;31mNameError\u001b[0m                                 Traceback (most recent call last)",
      "\u001b[0;32m<ipython-input-20-5feee0b02528>\u001b[0m in \u001b[0;36m<cell line: 1>\u001b[0;34m()\u001b[0m\n\u001b[0;32m----> 1\u001b[0;31m \u001b[0mdf_entity\u001b[0m\u001b[0;34m.\u001b[0m\u001b[0mcolumns\u001b[0m\u001b[0;34m\u001b[0m\u001b[0;34m\u001b[0m\u001b[0m\n\u001b[0m",
      "\u001b[0;31mNameError\u001b[0m: name 'df_entity' is not defined"
     ]
    }
   ],
   "source": [
    "df_entity.columns"
   ]
  },
  {
   "cell_type": "code",
   "execution_count": 21,
   "metadata": {},
   "outputs": [
    {
     "name": "stdout",
     "output_type": "stream",
     "text": [
      "                               dtype  non_null_count  non_null_percent\n",
      "status                        object           33446        100.000000\n",
      "last_updated_at               object           33403         99.871435\n",
      "created_at                    object           33403         99.871435\n",
      "company_name                  object           32617         97.521378\n",
      "website_domain                object           31893         95.356694\n",
      "website_tld                   object           31893         95.356694\n",
      "website_url                   object           31893         95.356694\n",
      "main_country_code             object           31415         93.927525\n",
      "main_country                  object           31415         93.927525\n",
      "locations                     object           31415         93.927525\n",
      "main_region                   object           30112         90.031693\n",
      "main_city                     object           29602         88.506847\n",
      "company_commercial_names      object           28121         84.078814\n",
      "main_address_raw_text         object           27980         83.657239\n",
      "main_postcode                 object           23820         71.219279\n",
      "phone_numbers                 object           22799         68.166597\n",
      "primary_phone                 object           22799         68.166597\n",
      "main_street                   object           19979         59.735095\n",
      "business_model                object           19798         59.193925\n",
      "product_type                  object           19798         59.193925\n",
      "main_business_category        object           19798         59.193925\n",
      "main_industry                 object           19798         59.193925\n",
      "main_sector                   object           19798         59.193925\n",
      "company_type                  object           19735         59.005561\n",
      "generated_description         object           19468         58.207259\n",
      "generated_business_tags       object           19445         58.138492\n",
      "num_locations                 object           19110         57.136877\n",
      "short_description             object           18702         55.917001\n",
      "naics_vertical                object           18263         54.604437\n",
      "isic_v4_labels                object           18048         53.961610\n",
      "nace_rev2_codes               object           18048         53.961610\n",
      "isic_v4_codes                 object           18048         53.961610\n",
      "nace_rev2_labels              object           18048         53.961610\n",
      "naics_2022_primary_code       object           18048         53.961610\n",
      "naics_2022_primary_label      object           18048         53.961610\n",
      "sic_codes                     object           18048         53.961610\n",
      "sic_labels                    object           18048         53.961610\n",
      "main_street_number            object           17034         50.929857\n",
      "main_longitude                object           17031         50.920887\n",
      "main_latitude                 object           17031         50.920887\n",
      "long_description              object           11731         35.074448\n",
      "domains                       object           11592         34.658853\n",
      "all_domains                   object           11592         34.658853\n",
      "facebook_url                  object           11282         33.731986\n",
      "linkedin_url                  object           10200         30.496920\n",
      "business_tags                 object            9249         27.653531\n",
      "employee_count_type           object            8723         26.080847\n",
      "employee_count                object            8723         26.080847\n",
      "revenue_type                  object            7229         21.613945\n",
      "revenue                       object            7229         21.613945\n",
      "instagram_url                 object            7014         20.971118\n",
      "company_legal_names           object            6890         20.600371\n",
      "primary_email                 object            6508         19.458231\n",
      "website_number_of_pages       object            6151         18.390839\n",
      "inbound_links_count           object            6151         18.390839\n",
      "website_language_code         object            6104         18.250314\n",
      "main_city_district            object            5979         17.876577\n",
      "sics_codified_subsector       object            5661         16.925791\n",
      "sics_codified_industry        object            5661         16.925791\n",
      "sics_codified_sector          object            5661         16.925791\n",
      "sics_codified_industry_code   object            5661         16.925791\n",
      "sics_codified_sector_code     object            5661         16.925791\n",
      "sics_codified_subsector_code  object            5661         16.925791\n",
      "year_founded                  object            5027         15.030198\n",
      "emails                        object            3316          9.914489\n",
      "twitter_url                   object            2755          8.237158\n",
      "lnk_year_founded              object            2142          6.404353\n",
      "youtube_url                   object            1142          3.414459\n",
      "other_emails                  object             578          1.728159\n",
      "naics_2022_secondary_codes    object             244          0.729534\n",
      "naics_2022_secondary_labels   object             244          0.729534\n",
      "android_app_url               object             138          0.412605\n",
      "ios_app_url                   object             123          0.367757\n",
      "alexa_rank                    object               0          0.000000\n",
      "tiktok_url                    object               0          0.000000\n"
     ]
    }
   ],
   "source": [
    "#sa vedem ce putem folosi ca si cheie\n",
    "pd.set_option('display.max_rows', None)  \n",
    "\n",
    "info_df = pd.DataFrame({\n",
    "    \"dtype\": df.dtypes,\n",
    "    \"non_null_count\": df.notna().sum(),\n",
    "    \"non_null_percent\": df.notna().mean() * 100\n",
    "}).sort_values(by=\"non_null_count\", ascending=False)\n",
    "\n",
    "print(info_df)"
   ]
  },
  {
   "cell_type": "code",
   "execution_count": 22,
   "metadata": {},
   "outputs": [],
   "source": [
    "#sterg coloanele inutile pt ca doar imi ingreuneaza analiza au sub 2%\n",
    "df.drop(columns=['naics_2022_secondary_codes','naics_2022_secondary_labels','android_app_url',\n",
    "                 'ios_app_url','alexa_rank','tiktok_url','other_emails'],inplace=True)"
   ]
  },
  {
   "cell_type": "code",
   "execution_count": 23,
   "metadata": {},
   "outputs": [
    {
     "data": {
      "text/plain": [
       "8461                                     moscow, russia, -\n",
       "15853    4200 Walnut Rd SE, Buckeye Lake, Ohio, 43008, ...\n",
       "8770                Carr. Sevilla, 5A, 21007 Huelva, Spain\n",
       "4918     79 Madison Ave, New York, New York, 10016, Uni...\n",
       "9071                                   Edinburgh, Scotland\n",
       "4712                      Unterm Ohmberg 1, 34431 Marsberg\n",
       "22462    17, Soi Bearing 5, Bangna Tai, Bangna, Bangkok...\n",
       "25516    NO. 26 Wucyuan 5th Road., New Taipei City, 248018\n",
       "364                                                   None\n",
       "32306             704 Rostraver Rd, Belle Vernon, PA 15012\n",
       "9540           Driebergen-Rijsenburg, Utrecht, Netherlands\n",
       "8465     1, Aravali Crescent, Nelson Mandela Marg, Vasa...\n",
       "11098    Withycombe Village Rd, Exmouth EX8 3BD, United...\n",
       "3533                      Rheingoldstraße 18, 10318 Berlin\n",
       "8191                              🚛 London, United Kingdom\n",
       "10389                                                 None\n",
       "30977    House No # CEN(D)3, Flat: B1 Road no.95 Gulsha...\n",
       "12016                      Keszthely, Zala County, Hungary\n",
       "11573                       106 Royal Liberty, Texas 77575\n",
       "17379    9 Đường 3/4, Phường 10, Đà Lạt, Lâm Đồng, Vietnam\n",
       "18771    Söğütözü, Dumlupınar Blv. No:102, 06510 Çankay...\n",
       "4293                                                  None\n",
       "8349                        Edisonstraße 8, 86399 Bobingen\n",
       "16425                                                 None\n",
       "30048             Via Ezio Vanoni n.3   37045 Legnago (VR)\n",
       "5922     190 W Sproul Rd, Springfield, PA 19064, United...\n",
       "31797                 , Dubai, Dubai, United Arab Emirates\n",
       "23348                  510 Westcott St. Syracuse, NY 13210\n",
       "9518        3100 Weston Rd, North York, ON M9M 2S7, Canada\n",
       "8357               Clemmons, North Carolina, United States\n",
       "Name: main_address_raw_text, dtype: object"
      ]
     },
     "execution_count": 23,
     "metadata": {},
     "output_type": "execute_result"
    }
   ],
   "source": [
    "#nu voi folosi adresa pentru ca este complicat de separat datele despre adresa si ma voi folosi de tara,oras,regine,postal_code\n",
    "df['main_address_raw_text'].sample(30) "
   ]
  },
  {
   "cell_type": "code",
   "execution_count": null,
   "metadata": {},
   "outputs": [],
   "source": []
  },
  {
   "cell_type": "markdown",
   "metadata": {},
   "source": [
    "# Normalizare date"
   ]
  },
  {
   "cell_type": "markdown",
   "metadata": {},
   "source": [
    "1. company_name"
   ]
  },
  {
   "cell_type": "code",
   "execution_count": 24,
   "metadata": {},
   "outputs": [
    {
     "data": {
      "text/plain": [
       "(17273, 18715)"
      ]
     },
     "execution_count": 24,
     "metadata": {},
     "output_type": "execute_result"
    }
   ],
   "source": [
    "#se poate vedea ca sunt mai putine unice daca fac lower.\n",
    "df['company_name'].str.lower().nunique(), df['company_name'].nunique()"
   ]
  },
  {
   "cell_type": "code",
   "execution_count": 25,
   "metadata": {},
   "outputs": [
    {
     "data": {
      "text/plain": [
       "14301                          MarcasTV Registro de Marcas\n",
       "26779                                    A-Met Engineering\n",
       "274                                       Epworth Tandoori\n",
       "7968                             Loami Village Center Hall\n",
       "13804                                         Fresh Burger\n",
       "29639                          KING DAVID ARCHITECTURE PC.\n",
       "4390                                Alloy Wheel Repairs NI\n",
       "1323                                             Cloud57uk\n",
       "11513    Heritage Coffee Roasting Co. - Lemon Creek Dri...\n",
       "32773                                               Aquido\n",
       "2098                                      Jose's Courtroom\n",
       "7617                                 General Cleaning Srl.\n",
       "22524    SOUTHINGTON THE ATHLETIC SHOP LLC-SBA SMALL 7A...\n",
       "8274                floristeria La Soledad de Almendralejo\n",
       "7290                             Aquido Colon Hydrotherapy\n",
       "26094              Mid Arabia Contracting Co.(Head Office)\n",
       "6557                                                  None\n",
       "2836                                             Extinrico\n",
       "5755                                         Hilltop Fruit\n",
       "25530                    Kaya Skin Clinic - Barsha Heights\n",
       "28886    Kaya Skin Clinic - Al Ain Mall, Kuwaitat Area,...\n",
       "5299                                JRD & Legal Associates\n",
       "20936    Sollus - Approved therapeutic massage ASCA & R...\n",
       "18408                        Jefferson Valley Bible Church\n",
       "19445                                           Hdag Metal\n",
       "11707                                         Nucul de Aur\n",
       "20763              Roto-Rooter Plumbers and Septic Service\n",
       "2939                                           KudosHealth\n",
       "11817                          UnipolRental S.p.A. - Parma\n",
       "848                            Emergency Response Training\n",
       "10384    Caroline Hobbs REALTOR-Broker | Hello Homes Gr...\n",
       "11768                              Jersey County Grain Co.\n",
       "1443                                       Avtoservis Nika\n",
       "30536                                       Divine Sweetss\n",
       "17429                                              Eiswerk\n",
       "3943                                   HOTEL LES TOURRADES\n",
       "20939                                  Terra Firma Estates\n",
       "13472                                         Simcon Homes\n",
       "28363                         Rårup Skjold og Klejs Kirker\n",
       "7795                                        Soma Urbanismo\n",
       "Name: company_name, dtype: object"
      ]
     },
     "execution_count": 25,
     "metadata": {},
     "output_type": "execute_result"
    }
   ],
   "source": [
    "df['company_name'].sample(40)  "
   ]
  },
  {
   "cell_type": "code",
   "execution_count": 26,
   "metadata": {},
   "outputs": [],
   "source": [
    "stopwords = ['inc', 'llc', 'ltd', 'corp', 's.a.', 'srl', 'sa']\n",
    "\n",
    "def normalize_company_name(name):\n",
    "    if pd.isna(name):\n",
    "        return None\n",
    "    # lowercase + trim\n",
    "    name = name.lower().strip()\n",
    "    # eliminăm stopwords\n",
    "    for word in stopwords:\n",
    "        # cu spațiu înainte și după ca să nu taie părți din alte cuvinte\n",
    "        name = re.sub(r'\\b{}\\b'.format(word), '', name)\n",
    "    # eliminăm puncte, virgule, slash, multiple spații, minusuri\n",
    "    name = re.sub(r'[-/&.,]', ' ', name)\n",
    "    name = re.sub(r'\\s+', ' ', name)  # un singur spațiu\n",
    "    return name.strip()"
   ]
  },
  {
   "cell_type": "code",
   "execution_count": 27,
   "metadata": {},
   "outputs": [
    {
     "data": {
      "text/html": [
       "<div>\n",
       "<style scoped>\n",
       "    .dataframe tbody tr th:only-of-type {\n",
       "        vertical-align: middle;\n",
       "    }\n",
       "\n",
       "    .dataframe tbody tr th {\n",
       "        vertical-align: top;\n",
       "    }\n",
       "\n",
       "    .dataframe thead th {\n",
       "        text-align: right;\n",
       "    }\n",
       "</style>\n",
       "<table border=\"1\" class=\"dataframe\">\n",
       "  <thead>\n",
       "    <tr style=\"text-align: right;\">\n",
       "      <th></th>\n",
       "      <th>company_name</th>\n",
       "      <th>company_name_norm</th>\n",
       "    </tr>\n",
       "  </thead>\n",
       "  <tbody>\n",
       "    <tr>\n",
       "      <th>16837</th>\n",
       "      <td>Metalmaster Auto Body</td>\n",
       "      <td>metalmaster auto body</td>\n",
       "    </tr>\n",
       "    <tr>\n",
       "      <th>23910</th>\n",
       "      <td>The May Center for Learning</td>\n",
       "      <td>the may center for learning</td>\n",
       "    </tr>\n",
       "    <tr>\n",
       "      <th>8838</th>\n",
       "      <td>Break City</td>\n",
       "      <td>break city</td>\n",
       "    </tr>\n",
       "    <tr>\n",
       "      <th>17355</th>\n",
       "      <td>Amer Kebek</td>\n",
       "      <td>amer kebek</td>\n",
       "    </tr>\n",
       "    <tr>\n",
       "      <th>21660</th>\n",
       "      <td>Dipisa’s Pizza</td>\n",
       "      <td>dipisa’s pizza</td>\n",
       "    </tr>\n",
       "    <tr>\n",
       "      <th>11024</th>\n",
       "      <td>Dazzle Chocolate</td>\n",
       "      <td>dazzle chocolate</td>\n",
       "    </tr>\n",
       "    <tr>\n",
       "      <th>24947</th>\n",
       "      <td>Golden Life American Hospital</td>\n",
       "      <td>golden life american hospital</td>\n",
       "    </tr>\n",
       "    <tr>\n",
       "      <th>29217</th>\n",
       "      <td>Menjačnica Trange-Frange 24</td>\n",
       "      <td>menjačnica trange frange 24</td>\n",
       "    </tr>\n",
       "    <tr>\n",
       "      <th>19577</th>\n",
       "      <td>Katholische Jugend Volkmarsen</td>\n",
       "      <td>katholische jugend volkmarsen</td>\n",
       "    </tr>\n",
       "    <tr>\n",
       "      <th>17220</th>\n",
       "      <td>Dudek Manufaktura</td>\n",
       "      <td>dudek manufaktura</td>\n",
       "    </tr>\n",
       "    <tr>\n",
       "      <th>32046</th>\n",
       "      <td>Projet Immigration Cap Canada - PI2C</td>\n",
       "      <td>projet immigration cap canada pi2c</td>\n",
       "    </tr>\n",
       "    <tr>\n",
       "      <th>31939</th>\n",
       "      <td>The Shop Gym</td>\n",
       "      <td>the shop gym</td>\n",
       "    </tr>\n",
       "    <tr>\n",
       "      <th>27331</th>\n",
       "      <td>Bernd Greindl</td>\n",
       "      <td>bernd greindl</td>\n",
       "    </tr>\n",
       "    <tr>\n",
       "      <th>17891</th>\n",
       "      <td>Macedonian Human Rights Movement International</td>\n",
       "      <td>macedonian human rights movement international</td>\n",
       "    </tr>\n",
       "    <tr>\n",
       "      <th>20830</th>\n",
       "      <td>Artisan Woodmasters</td>\n",
       "      <td>artisan woodmasters</td>\n",
       "    </tr>\n",
       "    <tr>\n",
       "      <th>20486</th>\n",
       "      <td>Boo Pala</td>\n",
       "      <td>boo pala</td>\n",
       "    </tr>\n",
       "    <tr>\n",
       "      <th>32176</th>\n",
       "      <td>Rikrea S. R. L.</td>\n",
       "      <td>rikrea s r l</td>\n",
       "    </tr>\n",
       "    <tr>\n",
       "      <th>23494</th>\n",
       "      <td>Elegance Banquets</td>\n",
       "      <td>elegance banquets</td>\n",
       "    </tr>\n",
       "    <tr>\n",
       "      <th>10981</th>\n",
       "      <td>Blair Regional YMCA</td>\n",
       "      <td>blair regional ymca</td>\n",
       "    </tr>\n",
       "    <tr>\n",
       "      <th>14918</th>\n",
       "      <td>Faro's Pizza</td>\n",
       "      <td>faro's pizza</td>\n",
       "    </tr>\n",
       "  </tbody>\n",
       "</table>\n",
       "</div>"
      ],
      "text/plain": [
       "                                         company_name  \\\n",
       "16837                           Metalmaster Auto Body   \n",
       "23910                     The May Center for Learning   \n",
       "8838                                       Break City   \n",
       "17355                                      Amer Kebek   \n",
       "21660                                  Dipisa’s Pizza   \n",
       "11024                                Dazzle Chocolate   \n",
       "24947                   Golden Life American Hospital   \n",
       "29217                     Menjačnica Trange-Frange 24   \n",
       "19577                   Katholische Jugend Volkmarsen   \n",
       "17220                               Dudek Manufaktura   \n",
       "32046            Projet Immigration Cap Canada - PI2C   \n",
       "31939                                    The Shop Gym   \n",
       "27331                                   Bernd Greindl   \n",
       "17891  Macedonian Human Rights Movement International   \n",
       "20830                             Artisan Woodmasters   \n",
       "20486                                        Boo Pala   \n",
       "32176                                 Rikrea S. R. L.   \n",
       "23494                               Elegance Banquets   \n",
       "10981                             Blair Regional YMCA   \n",
       "14918                                    Faro's Pizza   \n",
       "\n",
       "                                    company_name_norm  \n",
       "16837                           metalmaster auto body  \n",
       "23910                     the may center for learning  \n",
       "8838                                       break city  \n",
       "17355                                      amer kebek  \n",
       "21660                                  dipisa’s pizza  \n",
       "11024                                dazzle chocolate  \n",
       "24947                   golden life american hospital  \n",
       "29217                     menjačnica trange frange 24  \n",
       "19577                   katholische jugend volkmarsen  \n",
       "17220                               dudek manufaktura  \n",
       "32046              projet immigration cap canada pi2c  \n",
       "31939                                    the shop gym  \n",
       "27331                                   bernd greindl  \n",
       "17891  macedonian human rights movement international  \n",
       "20830                             artisan woodmasters  \n",
       "20486                                        boo pala  \n",
       "32176                                    rikrea s r l  \n",
       "23494                               elegance banquets  \n",
       "10981                             blair regional ymca  \n",
       "14918                                    faro's pizza  "
      ]
     },
     "execution_count": 27,
     "metadata": {},
     "output_type": "execute_result"
    }
   ],
   "source": [
    "#normalizez numele companiei\n",
    "df['company_name_norm'] = df['company_name'].apply(normalize_company_name)\n",
    "\n",
    "# verificăm un sample\n",
    "df[['company_name', 'company_name_norm']].sample(20, random_state=42)"
   ]
  },
  {
   "cell_type": "code",
   "execution_count": 28,
   "metadata": {},
   "outputs": [
    {
     "data": {
      "text/plain": [
       "16302"
      ]
     },
     "execution_count": 28,
     "metadata": {},
     "output_type": "execute_result"
    }
   ],
   "source": [
    "df['company_name_norm'].nunique()"
   ]
  },
  {
   "cell_type": "markdown",
   "metadata": {},
   "source": [
    "2. primary_phone"
   ]
  },
  {
   "cell_type": "code",
   "execution_count": 29,
   "metadata": {
    "scrolled": true
   },
   "outputs": [
    {
     "data": {
      "text/plain": [
       "16164              None\n",
       "29579              None\n",
       "20499              None\n",
       "7608       +12014881188\n",
       "18765     +420735791661\n",
       "17639      +85227959633\n",
       "9498       +16516410878\n",
       "8918      +393928879954\n",
       "2594      +555532511555\n",
       "27270              None\n",
       "29403     +441208851511\n",
       "29684      +79055341444\n",
       "281      +4917733168152\n",
       "20154      +77470940240\n",
       "14627     +558432024402\n",
       "9168      +441763246060\n",
       "6834       +31251342332\n",
       "13239      +19282770545\n",
       "20095     +441916706864\n",
       "932                None\n",
       "20221              None\n",
       "21719      +17705020226\n",
       "22000    +4968168570101\n",
       "2492       +81727602227\n",
       "8522      +420800400450\n",
       "28316              None\n",
       "18752              None\n",
       "29618    +4961367630019\n",
       "2534       +16193337204\n",
       "17371      +31612062275\n",
       "3781      +573015017437\n",
       "22039     +441277354795\n",
       "32907      +17575664000\n",
       "3473       +81568670314\n",
       "13870              None\n",
       "31748      +43722383274\n",
       "7366      +966920022097\n",
       "20723      +12067848330\n",
       "26749              None\n",
       "9883      +302103009323\n",
       "Name: primary_phone, dtype: object"
      ]
     },
     "execution_count": 29,
     "metadata": {},
     "output_type": "execute_result"
    }
   ],
   "source": [
    "df['primary_phone'].sample(40) "
   ]
  },
  {
   "cell_type": "code",
   "execution_count": 30,
   "metadata": {},
   "outputs": [],
   "source": [
    "#scap de caractere non numerice\n",
    "def normalize_phone(phone):\n",
    "    if pd.isna(phone):\n",
    "        return None\n",
    "    return ''.join(filter(str.isdigit, str(phone)))"
   ]
  },
  {
   "cell_type": "code",
   "execution_count": 31,
   "metadata": {},
   "outputs": [],
   "source": [
    "df['primary_phone_norm'] = df['primary_phone'].apply(normalize_phone)"
   ]
  },
  {
   "cell_type": "code",
   "execution_count": 32,
   "metadata": {},
   "outputs": [
    {
     "data": {
      "text/html": [
       "<div>\n",
       "<style scoped>\n",
       "    .dataframe tbody tr th:only-of-type {\n",
       "        vertical-align: middle;\n",
       "    }\n",
       "\n",
       "    .dataframe tbody tr th {\n",
       "        vertical-align: top;\n",
       "    }\n",
       "\n",
       "    .dataframe thead th {\n",
       "        text-align: right;\n",
       "    }\n",
       "</style>\n",
       "<table border=\"1\" class=\"dataframe\">\n",
       "  <thead>\n",
       "    <tr style=\"text-align: right;\">\n",
       "      <th></th>\n",
       "      <th>company_name_norm</th>\n",
       "      <th>primary_phone_norm</th>\n",
       "      <th>primary_phone</th>\n",
       "    </tr>\n",
       "  </thead>\n",
       "  <tbody>\n",
       "    <tr>\n",
       "      <th>3566</th>\n",
       "      <td>monsieurhockey</td>\n",
       "      <td>15146600426</td>\n",
       "      <td>+15146600426</td>\n",
       "    </tr>\n",
       "    <tr>\n",
       "      <th>8252</th>\n",
       "      <td>maryport developments</td>\n",
       "      <td>441900814431</td>\n",
       "      <td>+441900814431</td>\n",
       "    </tr>\n",
       "    <tr>\n",
       "      <th>10094</th>\n",
       "      <td>modesto sunrise rotary club foundation</td>\n",
       "      <td>12095541850</td>\n",
       "      <td>+12095541850</td>\n",
       "    </tr>\n",
       "    <tr>\n",
       "      <th>18402</th>\n",
       "      <td>the italian job</td>\n",
       "      <td>None</td>\n",
       "      <td>None</td>\n",
       "    </tr>\n",
       "    <tr>\n",
       "      <th>16648</th>\n",
       "      <td>thurston screen printing embroidery</td>\n",
       "      <td>17075738717</td>\n",
       "      <td>+17075738717</td>\n",
       "    </tr>\n",
       "    <tr>\n",
       "      <th>2955</th>\n",
       "      <td>reedijk real estate</td>\n",
       "      <td>31152023095</td>\n",
       "      <td>+31152023095</td>\n",
       "    </tr>\n",
       "    <tr>\n",
       "      <th>21417</th>\n",
       "      <td>creative trails</td>\n",
       "      <td>12077545292</td>\n",
       "      <td>+12077545292</td>\n",
       "    </tr>\n",
       "    <tr>\n",
       "      <th>9969</th>\n",
       "      <td>madinum</td>\n",
       "      <td>None</td>\n",
       "      <td>None</td>\n",
       "    </tr>\n",
       "    <tr>\n",
       "      <th>9628</th>\n",
       "      <td>gästehaus niedermeierhof</td>\n",
       "      <td>4980941443</td>\n",
       "      <td>+4980941443</td>\n",
       "    </tr>\n",
       "    <tr>\n",
       "      <th>20901</th>\n",
       "      <td>clínica dental francisco lópez lópez</td>\n",
       "      <td>34968845214</td>\n",
       "      <td>+34968845214</td>\n",
       "    </tr>\n",
       "    <tr>\n",
       "      <th>22111</th>\n",
       "      <td>rebalance fysiotherapie</td>\n",
       "      <td>31763033981</td>\n",
       "      <td>+31763033981</td>\n",
       "    </tr>\n",
       "    <tr>\n",
       "      <th>20574</th>\n",
       "      <td>subaru</td>\n",
       "      <td>81552824020</td>\n",
       "      <td>+81552824020</td>\n",
       "    </tr>\n",
       "    <tr>\n",
       "      <th>17083</th>\n",
       "      <td>moonlight music</td>\n",
       "      <td>17607536683</td>\n",
       "      <td>+17607536683</td>\n",
       "    </tr>\n",
       "    <tr>\n",
       "      <th>31729</th>\n",
       "      <td>agence immobilière patrick berger ceret</td>\n",
       "      <td>33640513296</td>\n",
       "      <td>+33640513296</td>\n",
       "    </tr>\n",
       "    <tr>\n",
       "      <th>3204</th>\n",
       "      <td>trainers den health fitness studio</td>\n",
       "      <td>15192457913</td>\n",
       "      <td>+15192457913</td>\n",
       "    </tr>\n",
       "  </tbody>\n",
       "</table>\n",
       "</div>"
      ],
      "text/plain": [
       "                             company_name_norm primary_phone_norm  \\\n",
       "3566                            monsieurhockey        15146600426   \n",
       "8252                     maryport developments       441900814431   \n",
       "10094   modesto sunrise rotary club foundation        12095541850   \n",
       "18402                          the italian job               None   \n",
       "16648      thurston screen printing embroidery        17075738717   \n",
       "2955                       reedijk real estate        31152023095   \n",
       "21417                          creative trails        12077545292   \n",
       "9969                                   madinum               None   \n",
       "9628                  gästehaus niedermeierhof         4980941443   \n",
       "20901     clínica dental francisco lópez lópez        34968845214   \n",
       "22111                  rebalance fysiotherapie        31763033981   \n",
       "20574                                   subaru        81552824020   \n",
       "17083                          moonlight music        17607536683   \n",
       "31729  agence immobilière patrick berger ceret        33640513296   \n",
       "3204        trainers den health fitness studio        15192457913   \n",
       "\n",
       "       primary_phone  \n",
       "3566    +15146600426  \n",
       "8252   +441900814431  \n",
       "10094   +12095541850  \n",
       "18402           None  \n",
       "16648   +17075738717  \n",
       "2955    +31152023095  \n",
       "21417   +12077545292  \n",
       "9969            None  \n",
       "9628     +4980941443  \n",
       "20901   +34968845214  \n",
       "22111   +31763033981  \n",
       "20574   +81552824020  \n",
       "17083   +17607536683  \n",
       "31729   +33640513296  \n",
       "3204    +15192457913  "
      ]
     },
     "execution_count": 32,
     "metadata": {},
     "output_type": "execute_result"
    }
   ],
   "source": [
    "df[['company_name_norm','primary_phone_norm','primary_phone']].sample(15)"
   ]
  },
  {
   "cell_type": "markdown",
   "metadata": {},
   "source": [
    "3. website_domain\n"
   ]
  },
  {
   "cell_type": "code",
   "execution_count": 33,
   "metadata": {},
   "outputs": [
    {
     "data": {
      "text/plain": [
       "9875       bistrolouisecatering.com\n",
       "29186              riachuelo.com.br\n",
       "16383            westbrookmaine.com\n",
       "28833    ilginlerotomatikkepenk.com\n",
       "23690                    capakt.com\n",
       "24410       flowengineeringtech.com\n",
       "28740                         wu.to\n",
       "24294             copaiaestudio.com\n",
       "7690             yorkpetsitters.com\n",
       "17078                    wbce.co.uk\n",
       "31374       karimullaindustries.com\n",
       "28841      boats-cars-assistance.fr\n",
       "22750          kimfitzgeralddmd.com\n",
       "27285       reflectionsmirror.co.uk\n",
       "16880                 grade92.co.uk\n",
       "7692              binzel-abicor.com\n",
       "2924       lucky7wineandliquors.com\n",
       "2                        aaaauto.cz\n",
       "2388                   posdcorb.com\n",
       "8806                           None\n",
       "6869                         amb.ma\n",
       "33376                kochartech.com\n",
       "30831          route12arcticcat.com\n",
       "6486         galaxykitchendepot.com\n",
       "3192         rivingtonspembroke.com\n",
       "12500              fynehomes.org.uk\n",
       "25056                  liberros.com\n",
       "25449          volkswagenmadras.com\n",
       "9557            hungerandransom.com\n",
       "9660               soydelicious.com\n",
       "Name: website_domain, dtype: object"
      ]
     },
     "execution_count": 33,
     "metadata": {},
     "output_type": "execute_result"
    }
   ],
   "source": [
    "df['website_domain'].sample(30) "
   ]
  },
  {
   "cell_type": "code",
   "execution_count": 34,
   "metadata": {},
   "outputs": [],
   "source": [
    "df['website_domain_norm'] = df['website_domain'].str.lower().str.strip()"
   ]
  },
  {
   "cell_type": "code",
   "execution_count": 35,
   "metadata": {},
   "outputs": [
    {
     "data": {
      "text/plain": [
       "(6613, 6613)"
      ]
     },
     "execution_count": 35,
     "metadata": {},
     "output_type": "execute_result"
    }
   ],
   "source": [
    "#nu a facut nicio diferenta, deci datele sunt bune in formatul in care sunt acum\n",
    "df['website_domain_norm'].nunique(), df['website_domain'].nunique()"
   ]
  },
  {
   "cell_type": "markdown",
   "metadata": {},
   "source": [
    "4. main_country_code"
   ]
  },
  {
   "cell_type": "code",
   "execution_count": 36,
   "metadata": {},
   "outputs": [
    {
     "data": {
      "text/plain": [
       "20264    None\n",
       "4517       DE\n",
       "18738      BE\n",
       "29786      DE\n",
       "4288     None\n",
       "12599    None\n",
       "21827      CA\n",
       "32143      DE\n",
       "26169      US\n",
       "1192       ES\n",
       "4518       JP\n",
       "30315      PT\n",
       "30926      ES\n",
       "4331       JP\n",
       "22207      IT\n",
       "25141      GB\n",
       "20725      GB\n",
       "17905    None\n",
       "26990      DE\n",
       "32448      US\n",
       "15972      IN\n",
       "30100      DE\n",
       "17273    None\n",
       "1172       FR\n",
       "30321      RO\n",
       "9293       FI\n",
       "21849      US\n",
       "8573       DE\n",
       "25095      US\n",
       "16978      US\n",
       "Name: main_country_code, dtype: object"
      ]
     },
     "execution_count": 36,
     "metadata": {},
     "output_type": "execute_result"
    }
   ],
   "source": [
    "df['main_country_code'].sample(30) "
   ]
  },
  {
   "cell_type": "code",
   "execution_count": 37,
   "metadata": {},
   "outputs": [],
   "source": [
    "df['main_country_code_norm']=df['main_country_code'].str.lower()"
   ]
  },
  {
   "cell_type": "code",
   "execution_count": 38,
   "metadata": {},
   "outputs": [
    {
     "data": {
      "text/plain": [
       "(137, 137)"
      ]
     },
     "execution_count": 38,
     "metadata": {},
     "output_type": "execute_result"
    }
   ],
   "source": [
    "df['main_country_code_norm'].nunique(),df['main_country_code'].nunique()"
   ]
  },
  {
   "cell_type": "markdown",
   "metadata": {},
   "source": [
    "5. main_region"
   ]
  },
  {
   "cell_type": "code",
   "execution_count": 39,
   "metadata": {},
   "outputs": [
    {
     "data": {
      "text/plain": [
       "31063                    None\n",
       "13031              New Jersey\n",
       "8185            North Holland\n",
       "28398           Riyadh Region\n",
       "21283                   Texas\n",
       "19817        British Columbia\n",
       "2595                    Idaho\n",
       "13823                    Utah\n",
       "16667              California\n",
       "9603                 Michigan\n",
       "31013           West Flanders\n",
       "31826            Lower Saxony\n",
       "28360                 England\n",
       "20704           Massachusetts\n",
       "5279               California\n",
       "10761                 England\n",
       "8425                  England\n",
       "15086               Catalonia\n",
       "15758    Auvergne-Rhône-Alpes\n",
       "32208         New South Wales\n",
       "20179                  Quebec\n",
       "3195           Ústí Nad Labem\n",
       "6886             Western Cape\n",
       "19330                    Iowa\n",
       "14686                 Antwerp\n",
       "16250                  Oregon\n",
       "19591                Virginia\n",
       "27170                 Tuscany\n",
       "55                    England\n",
       "14967      Saitama Prefecture\n",
       "Name: main_region, dtype: object"
      ]
     },
     "execution_count": 39,
     "metadata": {},
     "output_type": "execute_result"
    }
   ],
   "source": [
    "df['main_region'].sample(30) "
   ]
  },
  {
   "cell_type": "code",
   "execution_count": 40,
   "metadata": {},
   "outputs": [],
   "source": [
    "df['main_region_norm']=df['main_region'].str.lower().str.strip()"
   ]
  },
  {
   "cell_type": "code",
   "execution_count": 41,
   "metadata": {},
   "outputs": [
    {
     "data": {
      "text/plain": [
       "(953, 953)"
      ]
     },
     "execution_count": 41,
     "metadata": {},
     "output_type": "execute_result"
    }
   ],
   "source": [
    "df['main_region_norm'].nunique(),df['main_region'].nunique()"
   ]
  },
  {
   "cell_type": "markdown",
   "metadata": {},
   "source": [
    "6. main_city"
   ]
  },
  {
   "cell_type": "code",
   "execution_count": 42,
   "metadata": {},
   "outputs": [
    {
     "data": {
      "text/plain": [
       "26601                   Ümraniye\n",
       "10852                     Guadix\n",
       "4544               South Croydon\n",
       "371                         None\n",
       "3114                Dar El Beïda\n",
       "31938                     Moscow\n",
       "20870                   Montreal\n",
       "11134                  São Paulo\n",
       "2039                     Preston\n",
       "14051                  Carnaxide\n",
       "10079                       None\n",
       "8883                     Tallinn\n",
       "6359               Santa Clarita\n",
       "21520               Delray Beach\n",
       "21475    Hawkesbury City Council\n",
       "18116              West New York\n",
       "20234              Andersonville\n",
       "14853                 Alcobendas\n",
       "12914                   Neuenhof\n",
       "27738                     Tirana\n",
       "32958                     Berlin\n",
       "118                      Hausham\n",
       "32598              Miami Springs\n",
       "2294                      Irvine\n",
       "8186                      Seneca\n",
       "25121                       None\n",
       "29785                   New York\n",
       "10916                      Erith\n",
       "22199                    Lincoln\n",
       "10524                    Ashburn\n",
       "Name: main_city, dtype: object"
      ]
     },
     "execution_count": 42,
     "metadata": {},
     "output_type": "execute_result"
    }
   ],
   "source": [
    "df['main_city'].sample(30) "
   ]
  },
  {
   "cell_type": "code",
   "execution_count": 43,
   "metadata": {},
   "outputs": [],
   "source": [
    "df['main_city_norm']=df['main_city'].str.lower().str.strip()"
   ]
  },
  {
   "cell_type": "code",
   "execution_count": 44,
   "metadata": {},
   "outputs": [
    {
     "data": {
      "text/plain": [
       "(6673, 6673)"
      ]
     },
     "execution_count": 44,
     "metadata": {},
     "output_type": "execute_result"
    }
   ],
   "source": [
    "df['main_city_norm'].nunique(),df['main_city'].nunique()"
   ]
  },
  {
   "cell_type": "markdown",
   "metadata": {},
   "source": [
    "7. main_business_category"
   ]
  },
  {
   "cell_type": "code",
   "execution_count": 45,
   "metadata": {},
   "outputs": [
    {
     "data": {
      "text/plain": [
       "2686             Digital & Marketing Agencies\n",
       "32402                                    None\n",
       "3213          Clinics - Surgeons & Physicians\n",
       "1562                          Animal Shelters\n",
       "12267                Watches & Jewelry Stores\n",
       "16002                                    None\n",
       "24375                                    None\n",
       "14045                                    None\n",
       "15081                         Clothing Stores\n",
       "18950                                    None\n",
       "8103        Accounting & Bookkeeping Services\n",
       "5967     Fruit & Vegetable - Markets & Stores\n",
       "23800                                    None\n",
       "32228                                    None\n",
       "5623                                     None\n",
       "6678                                     None\n",
       "10153                           Art Galleries\n",
       "7329                                     None\n",
       "17321       Paints, Coatings, Dyes & Pigments\n",
       "16238                         Clothing Stores\n",
       "32193                                    None\n",
       "18385                         Office Supplies\n",
       "10936                    Beer & Liquor Stores\n",
       "21442                                    None\n",
       "2900       Automobile Dealers & Manufacturers\n",
       "14898      Automobile Dealers & Manufacturers\n",
       "2340               Search Engine Optimization\n",
       "28713                          Graphic Design\n",
       "19094                        Community Center\n",
       "27625                          Parked Domains\n",
       "Name: main_business_category, dtype: object"
      ]
     },
     "execution_count": 45,
     "metadata": {},
     "output_type": "execute_result"
    }
   ],
   "source": [
    "df['main_business_category'].sample(30) "
   ]
  },
  {
   "cell_type": "code",
   "execution_count": 46,
   "metadata": {},
   "outputs": [],
   "source": [
    "def normalize_business_category(name):\n",
    "    if pd.isna(name):\n",
    "        return None\n",
    "    # lowercase + trim\n",
    "    name = name.lower().strip()\n",
    "    # eliminăm puncte, virgule, slash, multiple spații, minusuri\n",
    "    name = re.sub(r'[-/&.,]', ' ', name)\n",
    "    name = re.sub(r'\\s+', ' ', name)  # un singur spațiu\n",
    "    return name.strip()"
   ]
  },
  {
   "cell_type": "code",
   "execution_count": 47,
   "metadata": {},
   "outputs": [
    {
     "data": {
      "text/html": [
       "<div>\n",
       "<style scoped>\n",
       "    .dataframe tbody tr th:only-of-type {\n",
       "        vertical-align: middle;\n",
       "    }\n",
       "\n",
       "    .dataframe tbody tr th {\n",
       "        vertical-align: top;\n",
       "    }\n",
       "\n",
       "    .dataframe thead th {\n",
       "        text-align: right;\n",
       "    }\n",
       "</style>\n",
       "<table border=\"1\" class=\"dataframe\">\n",
       "  <thead>\n",
       "    <tr style=\"text-align: right;\">\n",
       "      <th></th>\n",
       "      <th>main_business_category_norm</th>\n",
       "      <th>main_business_category</th>\n",
       "    </tr>\n",
       "  </thead>\n",
       "  <tbody>\n",
       "    <tr>\n",
       "      <th>16837</th>\n",
       "      <td>auto body shops</td>\n",
       "      <td>Auto Body Shops</td>\n",
       "    </tr>\n",
       "    <tr>\n",
       "      <th>23910</th>\n",
       "      <td>special needs education</td>\n",
       "      <td>Special Needs Education</td>\n",
       "    </tr>\n",
       "    <tr>\n",
       "      <th>8838</th>\n",
       "      <td>dance schools</td>\n",
       "      <td>Dance Schools</td>\n",
       "    </tr>\n",
       "    <tr>\n",
       "      <th>17355</th>\n",
       "      <td>None</td>\n",
       "      <td>None</td>\n",
       "    </tr>\n",
       "    <tr>\n",
       "      <th>21660</th>\n",
       "      <td>pizza italian restaurants</td>\n",
       "      <td>Pizza &amp; Italian Restaurants</td>\n",
       "    </tr>\n",
       "    <tr>\n",
       "      <th>11024</th>\n",
       "      <td>None</td>\n",
       "      <td>None</td>\n",
       "    </tr>\n",
       "    <tr>\n",
       "      <th>24947</th>\n",
       "      <td>clinics surgeons physicians</td>\n",
       "      <td>Clinics - Surgeons &amp; Physicians</td>\n",
       "    </tr>\n",
       "    <tr>\n",
       "      <th>29217</th>\n",
       "      <td>currency exchange service</td>\n",
       "      <td>Currency Exchange Service</td>\n",
       "    </tr>\n",
       "    <tr>\n",
       "      <th>19577</th>\n",
       "      <td>None</td>\n",
       "      <td>None</td>\n",
       "    </tr>\n",
       "    <tr>\n",
       "      <th>17220</th>\n",
       "      <td>paints coatings dyes pigments</td>\n",
       "      <td>Paints, Coatings, Dyes &amp; Pigments</td>\n",
       "    </tr>\n",
       "    <tr>\n",
       "      <th>32046</th>\n",
       "      <td>immigration attorneys</td>\n",
       "      <td>Immigration Attorneys</td>\n",
       "    </tr>\n",
       "    <tr>\n",
       "      <th>31939</th>\n",
       "      <td>gyms fitness health centers</td>\n",
       "      <td>Gyms, Fitness &amp; Health Centers</td>\n",
       "    </tr>\n",
       "    <tr>\n",
       "      <th>27331</th>\n",
       "      <td>None</td>\n",
       "      <td>None</td>\n",
       "    </tr>\n",
       "    <tr>\n",
       "      <th>17891</th>\n",
       "      <td>None</td>\n",
       "      <td>None</td>\n",
       "    </tr>\n",
       "    <tr>\n",
       "      <th>20830</th>\n",
       "      <td>cabinet makers</td>\n",
       "      <td>Cabinet Makers</td>\n",
       "    </tr>\n",
       "    <tr>\n",
       "      <th>20486</th>\n",
       "      <td>None</td>\n",
       "      <td>None</td>\n",
       "    </tr>\n",
       "    <tr>\n",
       "      <th>32176</th>\n",
       "      <td>pharmaceutical products</td>\n",
       "      <td>Pharmaceutical Products</td>\n",
       "    </tr>\n",
       "    <tr>\n",
       "      <th>23494</th>\n",
       "      <td>wedding venues</td>\n",
       "      <td>Wedding Venues</td>\n",
       "    </tr>\n",
       "    <tr>\n",
       "      <th>10981</th>\n",
       "      <td>None</td>\n",
       "      <td>None</td>\n",
       "    </tr>\n",
       "    <tr>\n",
       "      <th>14918</th>\n",
       "      <td>pizza italian restaurants</td>\n",
       "      <td>Pizza &amp; Italian Restaurants</td>\n",
       "    </tr>\n",
       "  </tbody>\n",
       "</table>\n",
       "</div>"
      ],
      "text/plain": [
       "         main_business_category_norm             main_business_category\n",
       "16837                auto body shops                    Auto Body Shops\n",
       "23910        special needs education            Special Needs Education\n",
       "8838                   dance schools                      Dance Schools\n",
       "17355                           None                               None\n",
       "21660      pizza italian restaurants        Pizza & Italian Restaurants\n",
       "11024                           None                               None\n",
       "24947    clinics surgeons physicians    Clinics - Surgeons & Physicians\n",
       "29217      currency exchange service          Currency Exchange Service\n",
       "19577                           None                               None\n",
       "17220  paints coatings dyes pigments  Paints, Coatings, Dyes & Pigments\n",
       "32046          immigration attorneys              Immigration Attorneys\n",
       "31939    gyms fitness health centers     Gyms, Fitness & Health Centers\n",
       "27331                           None                               None\n",
       "17891                           None                               None\n",
       "20830                 cabinet makers                     Cabinet Makers\n",
       "20486                           None                               None\n",
       "32176        pharmaceutical products            Pharmaceutical Products\n",
       "23494                 wedding venues                     Wedding Venues\n",
       "10981                           None                               None\n",
       "14918      pizza italian restaurants        Pizza & Italian Restaurants"
      ]
     },
     "execution_count": 47,
     "metadata": {},
     "output_type": "execute_result"
    }
   ],
   "source": [
    "#normalizez numele companiei\n",
    "df['main_business_category_norm'] = df['main_business_category'].apply(normalize_business_category)\n",
    "\n",
    "# verificăm un sample\n",
    "df[['main_business_category_norm', 'main_business_category']].sample(20, random_state=42)"
   ]
  },
  {
   "cell_type": "code",
   "execution_count": 48,
   "metadata": {},
   "outputs": [
    {
     "data": {
      "text/plain": [
       "(540, 540)"
      ]
     },
     "execution_count": 48,
     "metadata": {},
     "output_type": "execute_result"
    }
   ],
   "source": [
    "df['main_business_category_norm'].nunique(),df['main_business_category'].nunique()"
   ]
  },
  {
   "cell_type": "markdown",
   "metadata": {},
   "source": [
    "8. main_postcode"
   ]
  },
  {
   "cell_type": "code",
   "execution_count": 49,
   "metadata": {},
   "outputs": [
    {
     "data": {
      "text/plain": [
       "14151        07032\n",
       "29962       625003\n",
       "17485         7018\n",
       "21043    83327-076\n",
       "11049       394026\n",
       "228           None\n",
       "31532        19608\n",
       "8723         76240\n",
       "25004        22980\n",
       "15677        30175\n",
       "12175        72555\n",
       "25802         7109\n",
       "946          07960\n",
       "20595         None\n",
       "32086        22980\n",
       "17322         None\n",
       "27915      B92 0HF\n",
       "18989       600088\n",
       "31126     943-0804\n",
       "22746         1274\n",
       "29372        85204\n",
       "10449         None\n",
       "33252        47053\n",
       "25451        S2300\n",
       "20381       551 01\n",
       "17530    12327-000\n",
       "179          26003\n",
       "33044         None\n",
       "10258      PE9 2LD\n",
       "5048          None\n",
       "Name: main_postcode, dtype: object"
      ]
     },
     "execution_count": 49,
     "metadata": {},
     "output_type": "execute_result"
    }
   ],
   "source": [
    "df['main_postcode'].sample(30) "
   ]
  },
  {
   "cell_type": "code",
   "execution_count": 50,
   "metadata": {},
   "outputs": [],
   "source": [
    "def normalize_postcode(code):\n",
    "    if pd.isna(code) or str(code).strip().lower() == \"none\":\n",
    "        return None\n",
    "    \n",
    "    code = str(code).strip().upper()\n",
    "    \n",
    "    # elimin spațiile\n",
    "    code = re.sub(r\"\\s+\", \"\", code)\n",
    "    \n",
    "    # elimin -\n",
    "    if re.match(r\"^\\d{3}-\\d{4}$\", code):\n",
    "        return code.replace(\"-\", \"\")\n",
    "    \n",
    "    # inlocuieste tot ce nu e litera mare sau cifra cu nimic\n",
    "    code = re.sub(r\"[^A-Z0-9]\", \"\", code)\n",
    "    \n",
    "    return code"
   ]
  },
  {
   "cell_type": "code",
   "execution_count": 51,
   "metadata": {},
   "outputs": [],
   "source": [
    "df[\"main_postcode_norm\"] = df[\"main_postcode\"].apply(normalize_postcode)"
   ]
  },
  {
   "cell_type": "code",
   "execution_count": 52,
   "metadata": {},
   "outputs": [
    {
     "data": {
      "text/plain": [
       "(10221, 10284)"
      ]
     },
     "execution_count": 52,
     "metadata": {},
     "output_type": "execute_result"
    }
   ],
   "source": [
    "#am corectat cateva\n",
    "df['main_postcode_norm'].nunique(),df['main_postcode'].nunique()"
   ]
  },
  {
   "cell_type": "code",
   "execution_count": null,
   "metadata": {},
   "outputs": [],
   "source": []
  },
  {
   "cell_type": "markdown",
   "metadata": {},
   "source": [
    "# Deduplicare Date"
   ]
  },
  {
   "cell_type": "markdown",
   "metadata": {},
   "source": [
    "1. Varianta cu toate coloanele in coloane principale"
   ]
  },
  {
   "cell_type": "code",
   "execution_count": 54,
   "metadata": {},
   "outputs": [],
   "source": [
    "# Chei de grupare pentru deduplicare exactă\n",
    "group_cols = ['company_name_norm', 'website_domain_norm', 'primary_phone_norm', 'main_city_norm', 'main_region_norm',\n",
    "    'main_country_code_norm', 'main_postcode_norm']\n",
    "\n",
    "df_dedup_1 =df.drop_duplicates(subset=group_cols, keep='first') \\\n",
    "             .reset_index(drop=True)"
   ]
  },
  {
   "cell_type": "code",
   "execution_count": 64,
   "metadata": {},
   "outputs": [
    {
     "name": "stdout",
     "output_type": "stream",
     "text": [
      "Rânduri originale: 33446\n",
      "Rânduri după deduplicare exactă: 27736\n",
      "Rânduri după deduplicare fuzzy: 22411\n"
     ]
    }
   ],
   "source": [
    "# Prag de similaritate\n",
    "threshold = 90\n",
    "company_names = df_dedup_1['company_name_norm'].tolist()\n",
    "fuzzy_groups = {}\n",
    "visited = set()\n",
    "\n",
    "for i, name in enumerate(company_names):\n",
    "    if name in visited:\n",
    "        continue\n",
    "    matches = rf.process.extract(\n",
    "        name, company_names, scorer=rf.fuzz.token_sort_ratio, score_cutoff=threshold\n",
    "    )\n",
    "    group_ids = [company_names.index(match[0]) for match in matches]\n",
    "    for idx in group_ids:\n",
    "        visited.add(company_names[idx])\n",
    "        fuzzy_groups[company_names[idx]] = name  # grupăm sub numele principal\n",
    "\n",
    "df_dedup_1['company_name_fuzzy_group'] = df_dedup_1['company_name_norm'].map(fuzzy_groups)\n",
    "\n",
    "# Deduplicare finală cu fuzzy group + domain\n",
    "group_cols_fuzzy = ['company_name_fuzzy_group', 'website_domain_norm',]\n",
    "df_final_1 = df_dedup_1.drop_duplicates(subset=group_cols_fuzzy, keep='first') \\\n",
    "                   .reset_index(drop=True)\n",
    "\n",
    "print(f\"Rânduri originale: {len(df)}\")\n",
    "print(f\"Rânduri după deduplicare exactă: {len(df_dedup_1)}\")\n",
    "print(f\"Rânduri după deduplicare fuzzy: {len(df_final_1)}\")"
   ]
  },
  {
   "cell_type": "code",
   "execution_count": null,
   "metadata": {},
   "outputs": [],
   "source": []
  },
  {
   "cell_type": "code",
   "execution_count": null,
   "metadata": {},
   "outputs": [],
   "source": []
  },
  {
   "cell_type": "markdown",
   "metadata": {},
   "source": [
    "2. Varianta cu 3 coloane principale si restul secundare si cu scor(in functie de cate din aceste coloane sunt completate, ramane randul cu cele mai multe din ele completate)"
   ]
  },
  {
   "cell_type": "code",
   "execution_count": 57,
   "metadata": {},
   "outputs": [],
   "source": [
    "secondary_cols = [\n",
    "    \n",
    "    'main_city_norm', 'main_region_norm',\n",
    "    'main_country_code_norm', 'main_postcode_norm',\n",
    "    'main_business_category_norm'\n",
    "]\n",
    "\n",
    "def completeness_score(row):\n",
    "    return sum([0 if pd.isna(row[col]) or row[col]=='' else 1 for col in secondary_cols])\n",
    "\n",
    "df['completeness_score'] = df.apply(completeness_score, axis=1)"
   ]
  },
  {
   "cell_type": "code",
   "execution_count": 58,
   "metadata": {},
   "outputs": [],
   "source": [
    "# Chei de grupare pentru deduplicare exactă\n",
    "group_cols = ['company_name_norm', 'website_domain_norm', 'primary_phone_norm']\n",
    "\n",
    "# Alegem rândul cu cel mai mare scor de completitudine\n",
    "df_dedup_2 = df.sort_values('completeness_score', ascending=False) \\\n",
    "             .drop_duplicates(subset=group_cols, keep='first') \\\n",
    "             .reset_index(drop=True)"
   ]
  },
  {
   "cell_type": "code",
   "execution_count": 63,
   "metadata": {},
   "outputs": [
    {
     "name": "stdout",
     "output_type": "stream",
     "text": [
      "Rânduri originale: 33446\n",
      "Rânduri după deduplicare exactă: 23930\n",
      "Rânduri după deduplicare fuzzy: 17527\n"
     ]
    }
   ],
   "source": [
    "# Prag de similaritate\n",
    "threshold = 90\n",
    "company_names = df_dedup_2['company_name_norm'].tolist()\n",
    "fuzzy_groups = {}\n",
    "visited = set()\n",
    "\n",
    "for i, name in enumerate(company_names):\n",
    "    if name in visited:\n",
    "        continue\n",
    "    matches = rf.process.extract(\n",
    "        name, company_names, scorer=rf.fuzz.token_sort_ratio, score_cutoff=threshold\n",
    "    )\n",
    "    group_ids = [company_names.index(match[0]) for match in matches]\n",
    "    for idx in group_ids:\n",
    "        visited.add(company_names[idx])\n",
    "        fuzzy_groups[company_names[idx]] = name  # grupăm sub numele principal\n",
    "\n",
    "df_dedup_2['company_name_fuzzy_group'] = df_dedup_2['company_name_norm'].map(fuzzy_groups)\n",
    "\n",
    "# Deduplicare finală cu fuzzy group + domain\n",
    "group_cols_fuzzy = ['company_name_fuzzy_group', 'website_domain_norm']\n",
    "df_final_2 = df_dedup_2.sort_values('completeness_score', ascending=False) \\\n",
    "                   .drop_duplicates(subset=group_cols_fuzzy, keep='first') \\\n",
    "                   .reset_index(drop=True)\n",
    "\n",
    "print(f\"Rânduri originale: {len(df)}\")\n",
    "print(f\"Rânduri după deduplicare exactă: {len(df_dedup_2)}\")\n",
    "print(f\"Rânduri după deduplicare fuzzy: {len(df_final_2)}\")"
   ]
  },
  {
   "cell_type": "code",
   "execution_count": null,
   "metadata": {},
   "outputs": [],
   "source": []
  },
  {
   "cell_type": "code",
   "execution_count": null,
   "metadata": {},
   "outputs": [],
   "source": []
  },
  {
   "cell_type": "code",
   "execution_count": null,
   "metadata": {},
   "outputs": [],
   "source": []
  },
  {
   "cell_type": "code",
   "execution_count": null,
   "metadata": {},
   "outputs": [],
   "source": []
  },
  {
   "cell_type": "code",
   "execution_count": null,
   "metadata": {},
   "outputs": [],
   "source": []
  },
  {
   "cell_type": "code",
   "execution_count": null,
   "metadata": {},
   "outputs": [],
   "source": []
  },
  {
   "cell_type": "code",
   "execution_count": null,
   "metadata": {},
   "outputs": [],
   "source": []
  },
  {
   "cell_type": "code",
   "execution_count": null,
   "metadata": {},
   "outputs": [],
   "source": []
  },
  {
   "cell_type": "code",
   "execution_count": null,
   "metadata": {},
   "outputs": [],
   "source": []
  },
  {
   "cell_type": "code",
   "execution_count": null,
   "metadata": {},
   "outputs": [],
   "source": []
  },
  {
   "cell_type": "code",
   "execution_count": null,
   "metadata": {},
   "outputs": [],
   "source": []
  },
  {
   "cell_type": "code",
   "execution_count": null,
   "metadata": {},
   "outputs": [],
   "source": []
  },
  {
   "cell_type": "code",
   "execution_count": null,
   "metadata": {},
   "outputs": [],
   "source": []
  },
  {
   "cell_type": "code",
   "execution_count": null,
   "metadata": {},
   "outputs": [],
   "source": []
  },
  {
   "cell_type": "code",
   "execution_count": null,
   "metadata": {},
   "outputs": [],
   "source": []
  },
  {
   "cell_type": "code",
   "execution_count": null,
   "metadata": {},
   "outputs": [],
   "source": []
  },
  {
   "cell_type": "code",
   "execution_count": null,
   "metadata": {},
   "outputs": [],
   "source": []
  }
 ],
 "metadata": {
  "kernelspec": {
   "display_name": "challange_env",
   "language": "python",
   "name": "challange_env"
  },
  "language_info": {
   "codemirror_mode": {
    "name": "ipython",
    "version": 3
   },
   "file_extension": ".py",
   "mimetype": "text/x-python",
   "name": "python",
   "nbconvert_exporter": "python",
   "pygments_lexer": "ipython3",
   "version": "3.8.20"
  }
 },
 "nbformat": 4,
 "nbformat_minor": 4
}
